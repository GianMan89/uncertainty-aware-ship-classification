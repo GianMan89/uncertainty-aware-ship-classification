{
 "cells": [
  {
   "cell_type": "markdown",
   "id": "ac516c08",
   "metadata": {},
   "source": [
    "## 1. Introduction"
   ]
  },
  {
   "cell_type": "markdown",
   "id": "9f445c2d",
   "metadata": {},
   "source": [
    "## 2. Setup and Imports"
   ]
  },
  {
   "cell_type": "markdown",
   "id": "0271ec10",
   "metadata": {},
   "source": [
    "## 3. Data Loading"
   ]
  },
  {
   "cell_type": "markdown",
   "id": "eca11d91",
   "metadata": {},
   "source": [
    "## 4. Data Preprocessing: Generating Visibility Levels"
   ]
  },
  {
   "cell_type": "markdown",
   "id": "ff4e9cdc",
   "metadata": {},
   "source": [
    "## 5. Exploratory Data Analysis"
   ]
  },
  {
   "cell_type": "markdown",
   "id": "c0f3f776",
   "metadata": {},
   "source": [
    "## 6. Classification Model Training (Cross-Validation)"
   ]
  },
  {
   "cell_type": "markdown",
   "id": "df35b370",
   "metadata": {},
   "source": [
    "## 7. Initial Conformal Prediction (Single-Level Baseline)"
   ]
  },
  {
   "cell_type": "markdown",
   "id": "7ff7503c",
   "metadata": {},
   "source": [
    "## 8. Visibility-Aware Conformal Prediction"
   ]
  },
  {
   "cell_type": "markdown",
   "id": "fc492b58",
   "metadata": {},
   "source": [
    "## 9. Visibility Estimator Training"
   ]
  },
  {
   "cell_type": "markdown",
   "id": "e6a249c0",
   "metadata": {},
   "source": [
    "## 10. Integrated Testing: Visbility Estimator + CP"
   ]
  },
  {
   "cell_type": "markdown",
   "id": "64701bb9",
   "metadata": {},
   "source": [
    "## 11. Predicting Visibility CP Resolution"
   ]
  },
  {
   "cell_type": "markdown",
   "id": "43e0154b",
   "metadata": {},
   "source": [
    "## 12. Visualization and Interpretation"
   ]
  },
  {
   "cell_type": "markdown",
   "id": "c8aea423",
   "metadata": {},
   "source": [
    "## 13. Discussion and Conclusions"
   ]
  },
  {
   "cell_type": "markdown",
   "id": "682b6844",
   "metadata": {},
   "source": [
    "## 14. References"
   ]
  }
 ],
 "metadata": {
  "kernelspec": {
   "display_name": ".venv",
   "language": "python",
   "name": "python3"
  },
  "language_info": {
   "name": "python",
   "version": "3.12.8"
  }
 },
 "nbformat": 4,
 "nbformat_minor": 5
}
